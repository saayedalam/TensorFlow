{
 "cells": [
  {
   "cell_type": "markdown",
   "metadata": {},
   "source": [
    "# Saayed Alam <br> DATA 622 Final Project <br> Machine Learning and Big Data\n",
    "\n",
    "\n"
   ]
  },
  {
   "cell_type": "markdown",
   "metadata": {},
   "source": [
    "## Introduction\n",
    "For this project, I will build an image recognition model using Convolutional Neural Networks (CNN), Tensorflow and Keras. \n",
    "\n",
    "- **Why Convolutional Neural Networks?** <br> A Convolutional Neural Network is a Deep Learning algorithm which can take in an input image, assign importance to various aspects in the image and be able to differentiate one from the other. The pre-processing required in a CNN is much lower as compared to other classification algorithms. \n",
    "\n",
    "- **Why TensorFlow and Keras?** <br> TensorFlow is an open-source library for building Machine learning models at large scale. It is by far the most popular library for building deep learning models. It also has the strongest and a huge community of developers, researchers, and contributors. Keras is a high-level neural networks API, written in Python and capable of running on top of Tensorflow. It is very popular in the research and development community because it supports rapid experimentation, prototyping, and user-friendly API."
   ]
  },
  {
   "cell_type": "code",
   "execution_count": 89,
   "metadata": {},
   "outputs": [],
   "source": [
    "# load libraries\n",
    "import numpy as np\n",
    "import matplotlib.pyplot as plt\n",
    "import tensorflow as tf\n",
    "from keras.models import Sequential\n",
    "from keras.layers import Dense, Conv2D, Dropout, Flatten, MaxPooling2D"
   ]
  },
  {
   "cell_type": "markdown",
   "metadata": {},
   "source": [
    "## Data Preparation\n",
    "As assigned by the Professor, I will use the MNIST dataset. The MNIST database (Modified National Institute of Standards and Technology database) is a large database of handwritten digits that is commonly used for training various image processing systems. The database is also widely used for training and testing in the field of machine learning. You can learn more about the dataset [here](http://yann.lecun.com/exdb/mnist/). If you scroll down, you will notice all the algorithms and their respective accuracy scores tested on this dataset. I will use it as reference when I fit the model. \n",
    "\n",
    "TensorFlow(TF) allows to download the MNIST dataset through their API. \n",
    "- `x_train` has 60,000 images\n",
    "- `x_test` has 10,000 images\n",
    "- `y_train` and `y_test` have labels from 0 to 9 which represents which number they actually are."
   ]
  },
  {
   "cell_type": "code",
   "execution_count": 97,
   "metadata": {},
   "outputs": [],
   "source": [
    "# import dataset\n",
    "(x_train, y_train), (x_test, y_test) = tf.keras.datasets.mnist.load_data()"
   ]
  },
  {
   "cell_type": "markdown",
   "metadata": {},
   "source": [
    "Before I transform the dataset for the model, let us explore an image. Since there are 60,000 images, I will pick a random number from the bracket and print it. "
   ]
  },
  {
   "cell_type": "code",
   "execution_count": 98,
   "metadata": {},
   "outputs": [
    {
     "name": "stdout",
     "output_type": "stream",
     "text": [
      "3\n"
     ]
    },
    {
     "data": {
      "text/plain": [
       "<matplotlib.image.AxesImage at 0x1ce43c95a88>"
      ]
     },
     "execution_count": 98,
     "metadata": {},
     "output_type": "execute_result"
    },
    {
     "data": {
      "image/png": "[encoded data removed]",
      "text/plain": [
       "<Figure size 432x288 with 1 Axes>"
      ]
     },
     "metadata": {
      "needs_background": "light"
     },
     "output_type": "display_data"
    }
   ],
   "source": [
    "# print a digit between 1 to 60,000\n",
    "image_index = 12345\n",
    "print(y_train[image_index])\n",
    "\n",
    "# visualize the image\n",
    "%matplotlib inline\n",
    "plt.imshow(x_train[image_index], cmap = 'Greys')"
   ]
  },
  {
   "cell_type": "markdown",
   "metadata": {},
   "source": [
    "Next, I reshape and normalize the dataset in order to extract features from the source image. It is a necessary step to use the dataset in Keras API. \n",
    "\n",
    "- Reshape: Keras API requires 4-dims numpy arrays. We can see below, our dataset is 3-dims i.e. 60,000 images and 28 x 28 pixel per image in size. \n",
    "- Normalize: A neural network models always require normalized data. "
   ]
  },
  {
   "cell_type": "code",
   "execution_count": 99,
   "metadata": {},
   "outputs": [
    {
     "name": "stdout",
     "output_type": "stream",
     "text": [
      "x_train shape: (60000, 28, 28)\n"
     ]
    }
   ],
   "source": [
    "# shape of the raw dataset\n",
    "print('x_train shape:', x_train.shape)"
   ]
  },
  {
   "cell_type": "code",
   "execution_count": 100,
   "metadata": {
    "scrolled": true
   },
   "outputs": [
    {
     "name": "stdout",
     "output_type": "stream",
     "text": [
      "x_train shape: (60000, 28, 28, 1)\n",
      "Number of images in x_train 60000\n",
      "Number of images in x_test 10000\n"
     ]
    }
   ],
   "source": [
    "# reshaping the dataset\n",
    "x_train = x_train.reshape(x_train.shape[0], 28, 28, 1)\n",
    "x_test = x_test.reshape(x_test.shape[0], 28, 28, 1)\n",
    "input_shape = (28, 28, 1)\n",
    "\n",
    "# convert to get decimal points and normalize the data by dividing it to the max value i.e. 255 \n",
    "x_train = x_train.astype('float32') / 255 \n",
    "x_test = x_test.astype('float32') / 255\n",
    "\n",
    "# verifying the transformation\n",
    "print('x_train shape:', x_train.shape)\n",
    "print('Number of images in x_train', x_train.shape[0])\n",
    "print('Number of images in x_test', x_test.shape[0])"
   ]
  },
  {
   "cell_type": "markdown",
   "metadata": {},
   "source": [
    "## Model \n",
    "Finally I build a Convolutional Neural Networks using Keras API.\n",
    "***\n",
    "- `Sequential` allows us to create model layer-by-layer. I can create a Sequential model by passing a list of layer instances to the constructor.\n",
    "***\n",
    "- `Conv2D` the objective of this layer is to extract the high-level features such as edges, from the input image.  \n",
    "    1. the dimensionality of the output space of this layer,\n",
    "    2. the height and width of the convolution layer,\n",
    "    3. the model needs to know what input shape it should expect. \n",
    "***\n",
    "- `MaxPooling2D` the Pooling layer is responsible for reducing the spatial size of the previous layer. \n",
    "    1. factors by which to downscale.  \n",
    "***    \n",
    "- `Flatten` removes all of the dimensions except for one.\n",
    "***\n",
    "- `Dense` a dense layer is just a regular layer of neurons in a neural network. Each neuron recieves input from all the neurons in the previous layer, thus densely connected. \n",
    "    1. the activation function is responsible for transforming the summed weighted input from the node into the activation of the node or output for that input,\n",
    "    2. relu or rectified linear activation function is a piecewise linear function that will output the input directly if is positive, otherwise, it will output zero. It has become the default activation function for many types of neural networks because a model that uses it is easier to train and often achieves better performance.\n",
    "***\n",
    "- `Dropout` it is a technique used to tackle Overfitting. The Dropout method in Keras takes in a float between 0 and 1, which is the fraction of the neurons to drop. \n",
    "***\n",
    "- `Dense` the final Dense layer must have 10 neurons since I have 10 number classes.\n",
    "    1. softmax function or normalized exponential function can be used to represent a categorical distribution i.e. a probability distribution over ‘K’ different possible outcomes. "
   ]
  },
  {
   "cell_type": "code",
   "execution_count": 101,
   "metadata": {},
   "outputs": [],
   "source": [
    "# create the model\n",
    "model = Sequential([\n",
    "    Conv2D(28, kernel_size = (3, 3), input_shape = input_shape),\n",
    "    MaxPooling2D(pool_size = (2, 2)),\n",
    "    Flatten(),\n",
    "    Dense(256, activation = tf.nn.relu),\n",
    "    Dropout(0.2),\n",
    "    Dense(10, activation = tf.nn.softmax)\n",
    "])"
   ]
  },
  {
   "cell_type": "markdown",
   "metadata": {},
   "source": [
    "Now that I have created the model, we are ready to optimize and fit the model. Compile defines the loss function, the optimizer and the metrics. These are necessary to train a neural network. I will use the `sparse_categorical_crossentropy` for loss function and `adam` for the optimizer. With the help of the optimization function, loss function learns to reduce the error in prediction.\n",
    "- `sparse_categorical_crossentropy` this function is used when classes are mutually exclusive (e.g. when each sample belongs exactly to one class).\n",
    "- `adam` Adam is an adaptive learning rate optimization algorithm that’s been designed specifically for training deep neural networks. You can read more about it [here](https://towardsdatascience.com/adam-latest-trends-in-deep-learning-optimization-6be9a291375c). The algorithms leverages the power of adaptive learning rates methods to find individual learning rates for each parameter.\n",
    "- `accuracy` it is the fraction of predictions the model got right.\n",
    "- `epochs` it is a measure of the number of times all of the training dataset are used once to update the weights."
   ]
  },
  {
   "cell_type": "code",
   "execution_count": 102,
   "metadata": {},
   "outputs": [
    {
     "name": "stdout",
     "output_type": "stream",
     "text": [
      "Epoch 1/10\n",
      "60000/60000 [==============================] - 30s 495us/step - loss: 0.1742 - accuracy: 0.9482\n",
      "Epoch 2/10\n",
      "60000/60000 [==============================] - 32s 531us/step - loss: 0.0657 - accuracy: 0.9797\n",
      "Epoch 3/10\n",
      "60000/60000 [==============================] - 30s 504us/step - loss: 0.0436 - accuracy: 0.9866\n",
      "Epoch 4/10\n",
      "60000/60000 [==============================] - 30s 506us/step - loss: 0.0339 - accuracy: 0.9884\n",
      "Epoch 5/10\n",
      "60000/60000 [==============================] - 31s 524us/step - loss: 0.0242 - accuracy: 0.9918\n",
      "Epoch 6/10\n",
      "60000/60000 [==============================] - 32s 526us/step - loss: 0.0221 - accuracy: 0.9923\n",
      "Epoch 7/10\n",
      "60000/60000 [==============================] - 30s 504us/step - loss: 0.0166 - accuracy: 0.9946\n",
      "Epoch 8/10\n",
      "60000/60000 [==============================] - 31s 513us/step - loss: 0.0154 - accuracy: 0.9946\n",
      "Epoch 9/10\n",
      "60000/60000 [==============================] - 31s 524us/step - loss: 0.0159 - accuracy: 0.9942\n",
      "Epoch 10/10\n",
      "60000/60000 [==============================] - 31s 523us/step - loss: 0.0119 - accuracy: 0.9960\n"
     ]
    },
    {
     "data": {
      "text/plain": [
       "<keras.callbacks.callbacks.History at 0x1ce464dd688>"
      ]
     },
     "execution_count": 102,
     "metadata": {},
     "output_type": "execute_result"
    }
   ],
   "source": [
    "# complile the model\n",
    "model.compile(optimizer = 'adam',\n",
    "             loss = 'sparse_categorical_crossentropy',\n",
    "             metrics = ['accuracy'])\n",
    "\n",
    "# fit the model\n",
    "model.fit(x = x_train, y = y_train, epochs = 10)"
   ]
  },
  {
   "cell_type": "markdown",
   "metadata": {},
   "source": [
    "## Evaluation & Prediction\n",
    "Lastly, I evaluate my model and achieve 98.6% accuracy with my model. I also make a prediction to verify the accuracy."
   ]
  },
  {
   "cell_type": "code",
   "execution_count": 103,
   "metadata": {},
   "outputs": [
    {
     "name": "stdout",
     "output_type": "stream",
     "text": [
      "10000/10000 [==============================] - 1s 93us/step\n"
     ]
    },
    {
     "data": {
      "text/plain": [
       "[0.06546762842676754, 0.9855999946594238]"
      ]
     },
     "execution_count": 103,
     "metadata": {},
     "output_type": "execute_result"
    }
   ],
   "source": [
    "# evaluate the model\n",
    "model.evaluate(x_test, y_test)"
   ]
  },
  {
   "cell_type": "code",
   "execution_count": 106,
   "metadata": {},
   "outputs": [
    {
     "name": "stdout",
     "output_type": "stream",
     "text": [
      "8\n"
     ]
    },
    {
     "data": {
      "image/png": "[encoded data removed]",
      "text/plain": [
       "<Figure size 432x288 with 1 Axes>"
      ]
     },
     "metadata": {
      "needs_background": "light"
     },
     "output_type": "display_data"
    }
   ],
   "source": [
    "# print a digit between 1 to 10,000\n",
    "image_index = 1234\n",
    "plt.imshow(x_test[image_index].reshape(28, 28), cmap = 'Greys')\n",
    "\n",
    "# make prediction\n",
    "pred = model.predict(x_test[image_index].reshape(1, 28, 28, 1))\n",
    "print(pred.argmax())"
   ]
  },
  {
   "cell_type": "markdown",
   "metadata": {},
   "source": [
    "## Conclusion\n",
    "For this project, my model was able to recognise handwritten digits with 98.6% accuracy. I used the CNN algorithm because it is the best deep learning algorthim for images. I have also used Keras API built on top of TensorFlow because of it is one of the best machine learning algorthim right now. I have also used the best lost function and optimizer the industry has to offer when it comes to image recognition. "
   ]
  }
 ],
 "metadata": {
  "kernelspec": {
   "display_name": "Python 3",
   "language": "python",
   "name": "python3"
  },
  "language_info": {
   "codemirror_mode": {
    "name": "ipython",
    "version": 3
   },
   "file_extension": ".py",
   "mimetype": "text/x-python",
   "name": "python",
   "nbconvert_exporter": "python",
   "pygments_lexer": "ipython3",
   "version": "3.7.4"
  }
 },
 "nbformat": 4,
 "nbformat_minor": 2
}
